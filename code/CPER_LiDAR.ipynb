{
 "cells": [
  {
   "cell_type": "code",
   "execution_count": 1,
   "id": "9bb31a87",
   "metadata": {},
   "outputs": [],
   "source": [
    "import os\n",
    "import neonutilities as nu\n",
    "import rasterio as rio\n",
    "from rasterio.plot import show, show_hist\n",
    "import numpy as np\n",
    "from math import floor\n",
    "import matplotlib.pyplot as plt\n",
    "from mpl_toolkits.axes_grid1 import make_axes_locatable"
   ]
  },
  {
   "cell_type": "code",
   "execution_count": 11,
   "id": "032cba4d",
   "metadata": {},
   "outputs": [
    {
     "name": "stderr",
     "output_type": "stream",
     "text": [
      "Provisional NEON data are not included. To download provisional data, use input parameter include_provisional=True.\n"
     ]
    },
    {
     "name": "stdout",
     "output_type": "stream",
     "text": [
      "Downloading 25 NEON data files totaling approximately 11.7 MB\n",
      "\n"
     ]
    },
    {
     "name": "stderr",
     "output_type": "stream",
     "text": [
      "100%|██████████| 25/25 [00:01<00:00, 14.34it/s]\n"
     ]
    }
   ],
   "source": [
    "# Download the CHM Data to the ./data folder\n",
    "nu.by_tile_aop(dpid=\"DP3.30015.001\",\n",
    "               site=\"CPER\", \n",
    "               year=2020,\n",
    "               easting=519000, \n",
    "               northing=4520000, \n",
    "               savepath=os.path.expanduser(\"~/LiDAR_Uncertainty/CPER_data\"))"
   ]
  },
  {
   "cell_type": "code",
   "execution_count": 12,
   "id": "24799f8e",
   "metadata": {},
   "outputs": [
    {
     "name": "stderr",
     "output_type": "stream",
     "text": [
      "Provisional NEON data are not included. To download provisional data, use input parameter include_provisional=True.\n"
     ]
    },
    {
     "name": "stdout",
     "output_type": "stream",
     "text": [
      "Downloading 28 NEON data files totaling approximately 23.2 MB\n",
      "\n"
     ]
    },
    {
     "name": "stderr",
     "output_type": "stream",
     "text": [
      "100%|██████████| 28/28 [00:02<00:00, 12.11it/s]\n"
     ]
    }
   ],
   "source": [
    "# Download the DEM (DSM & DTM) Data to the ./data folder\n",
    "nu.by_tile_aop(dpid=\"DP3.30024.001\",\n",
    "               site=\"CPER\", \n",
    "               year=2020,\n",
    "               easting=519000, \n",
    "               northing=4520000, \n",
    "               savepath=os.path.expanduser(\"~/LiDAR_Uncertainty/CPER_data\"))"
   ]
  },
  {
   "cell_type": "code",
   "execution_count": 13,
   "id": "7bf83f96",
   "metadata": {},
   "outputs": [
    {
     "name": "stdout",
     "output_type": "stream",
     "text": [
      "/Users/kitlewers/LiDAR_Uncertainty/CPER_data/DP3.30015.001/neon-aop-products/2020/FullSite/D10/2020_CPER_7/L3/DiscreteLidar/CanopyHeightModelGtif/NEON_D10_CPER_DP3_519000_4520000_CHM.tif\n",
      "/Users/kitlewers/LiDAR_Uncertainty/CPER_data/DP3.30015.001/neon-aop-products/2020/FullSite/D10/2020_CPER_6/L3/DiscreteLidar/CanopyHeightModelGtif/NEON_D10_CPER_DP3_519000_4520000_CHM.tif\n",
      "/Users/kitlewers/LiDAR_Uncertainty/CPER_data/DP3.30015.001/neon-aop-products/2020/FullSite/D10/2020_CPER_5/L3/DiscreteLidar/CanopyHeightModelGtif/NEON_D10_CPER_DP3_519000_4520000_CHM.tif\n",
      "/Users/kitlewers/LiDAR_Uncertainty/CPER_data/DP3.30024.001/neon-aop-products/2020/FullSite/D10/2020_CPER_7/L3/DiscreteLidar/DTMGtif/NEON_D10_CPER_DP3_519000_4520000_DTM.tif\n",
      "/Users/kitlewers/LiDAR_Uncertainty/CPER_data/DP3.30024.001/neon-aop-products/2020/FullSite/D10/2020_CPER_7/L3/DiscreteLidar/DSMGtif/NEON_D10_CPER_DP3_519000_4520000_DSM.tif\n",
      "/Users/kitlewers/LiDAR_Uncertainty/CPER_data/DP3.30024.001/neon-aop-products/2020/FullSite/D10/2020_CPER_6/L3/DiscreteLidar/DTMGtif/NEON_D10_CPER_DP3_519000_4520000_DTM.tif\n",
      "/Users/kitlewers/LiDAR_Uncertainty/CPER_data/DP3.30024.001/neon-aop-products/2020/FullSite/D10/2020_CPER_6/L3/DiscreteLidar/DSMGtif/NEON_D10_CPER_DP3_519000_4520000_DSM.tif\n",
      "/Users/kitlewers/LiDAR_Uncertainty/CPER_data/DP3.30024.001/neon-aop-products/2020/FullSite/D10/2020_CPER_5/L3/DiscreteLidar/DTMGtif/NEON_D10_CPER_DP3_519000_4520000_DTM.tif\n",
      "/Users/kitlewers/LiDAR_Uncertainty/CPER_data/DP3.30024.001/neon-aop-products/2020/FullSite/D10/2020_CPER_5/L3/DiscreteLidar/DSMGtif/NEON_D10_CPER_DP3_519000_4520000_DSM.tif\n"
     ]
    }
   ],
   "source": [
    "def list_files(directory):\n",
    "    for root, dirs, files in os.walk(directory):\n",
    "        for file in files:\n",
    "            if file.endswith('.tif'):\n",
    "                print(os.path.join(root, file).replace(os.path.expanduser('~/Downloads/'),'..'))\n",
    "\n",
    "# Replace 'your_directory_path' with the path to the directory you want to search\n",
    "chm_dir = os.path.expanduser(\"~/LiDAR_Uncertainty/CPER_data/DP3.30015.001\")\n",
    "dem_dir = os.path.expanduser(\"~/LiDAR_Uncertainty/CPER_data/DP3.30024.001\")\n",
    "list_files(chm_dir)\n",
    "list_files(dem_dir)"
   ]
  },
  {
   "cell_type": "code",
   "execution_count": null,
   "id": "a6404770",
   "metadata": {},
   "outputs": [],
   "source": []
  }
 ],
 "metadata": {
  "kernelspec": {
   "display_name": "env",
   "language": "python",
   "name": "python3"
  },
  "language_info": {
   "codemirror_mode": {
    "name": "ipython",
    "version": 3
   },
   "file_extension": ".py",
   "mimetype": "text/x-python",
   "name": "python",
   "nbconvert_exporter": "python",
   "pygments_lexer": "ipython3",
   "version": "3.13.1"
  }
 },
 "nbformat": 4,
 "nbformat_minor": 5
}
